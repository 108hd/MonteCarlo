{
 "cells": [
  {
   "cell_type": "markdown",
   "id": "45762487-d33f-486d-8e38-2cdea04e3528",
   "metadata": {},
   "source": [
    "# Final Project Report\n",
    "\n",
    "* Class: DS 5100\n",
    "* Student Name: Seth Bitney\n",
    "* Student Net ID: wkr8bh\n",
    "* This URL: a URL to the notebook source of this document"
   ]
  },
  {
   "cell_type": "markdown",
   "id": "acf756c1-ecaa-41dc-b6ca-d566eb94560b",
   "metadata": {},
   "source": [
    "# Instructions\n",
    "\n",
    "Follow the instructions in the Final Project isntructions notebook and put evidence of your work in this notebook.\n",
    "\n",
    "Total points for each subsection under **Deliverables** and **Scenarios** are given in parentheses.\n",
    "\n",
    "Breakdowns of points within subsections are specified within subsection instructions as bulleted lists.\n",
    "\n",
    "This project is worth **50 points**."
   ]
  },
  {
   "cell_type": "markdown",
   "id": "89dc7a32-f682-4402-8c1e-b6ccdb3e0e39",
   "metadata": {},
   "source": [
    "# Deliverables"
   ]
  },
  {
   "cell_type": "markdown",
   "id": "d32cb273-9a40-4909-a7ce-51f6e4958d3c",
   "metadata": {},
   "source": [
    "## The Monte Carlo Module (10)\n",
    "\n",
    "- URL included, appropriately named (1).\n",
    "- Includes all three specified classes (3).\n",
    "- Includes at least all 12 specified methods (6; .5 each)."
   ]
  },
  {
   "cell_type": "markdown",
   "id": "f5f3b070-de9e-4de9-bfae-8974d184aa28",
   "metadata": {},
   "source": [
    "Put the URL to your GitHub repo here.\n",
    "\n",
    "Repo URL:"
   ]
  },
  {
   "cell_type": "markdown",
   "id": "162370fb-3729-4c85-b040-8c25b2c966d2",
   "metadata": {},
   "source": [
    "Paste a copyy of your module here.\n",
    "\n",
    "NOTE: Paste as text, not as code. Use triple backticks to wrap your code blocks."
   ]
  },
  {
   "cell_type": "raw",
   "id": "f592d787-0d9b-4be4-a496-de247d83f988",
   "metadata": {
    "tags": []
   },
   "source": [
    "'''import numpy as np\n",
    "import pandas as pd\n",
    "\n",
    "class Dice:\n",
    "    '''The dice class creates dice with n number of sides, changes the weight to \n",
    "    specific sides as needed, rolls the dice and Returns a copy of the private die data frame.'''\n",
    "    def __init__(self, faces: np.ndarray):\n",
    "        '''Initializer takes a numpy array of faces as an argument. Data type may be\n",
    "        strings or numbers, and values must be distinct. A weight of 1 is internally\n",
    "        initializes for each face.'''\n",
    "        # Ensures array of faces is numpy\n",
    "        if not isinstance(faces, np.ndarray):\n",
    "            raise TypeError(\"Input must be a numpy array\")\n",
    "        \n",
    "        # Ensures datatype is alphabetic or number\n",
    "        datatypes = (np.number, np.str_)\n",
    "        if not any(np.issubdtype(faces.dtype, dtype) for dtype in datatypes):\n",
    "            raise TypeError(\"Array datatype must be either strings or numbers\")\n",
    "       \n",
    "        # Ensures array values are distinct\n",
    "        unique_faces = set(faces)\n",
    "        if len(unique_faces) != len(faces):\n",
    "            raise ValueError(\"Array values must be unique\")  \n",
    "        \n",
    "        self.faces = faces\n",
    "        # Weight of each is 1\n",
    "        self.weights = np.ones(len(faces))\n",
    "        # Faces and weights in private dataframe \n",
    "        self._die = pd.DataFrame({\n",
    "            \"faces\": self.faces,\n",
    "            \"weights\": self.weights\n",
    "        })\n",
    "\n",
    "    # Ensure face value is valid\n",
    "    def change_weight(self, face_value, new_weight):\n",
    "        '''Takes two arguments: the face value to be changed and the new\n",
    "        weight. Checks to see if the face is a valid value and if the weight is a valid type.'''\n",
    "        if face_value not in self.faces:\n",
    "            raise ValueError(\"Face must be a valid value\")\n",
    "    \n",
    "        # Ensure new weight is valid datatype\n",
    "        if not isinstance(new_weight, (int, float)):\n",
    "            raise TypeError(\"Weight must be either integer or float\")\n",
    "        \n",
    "        # Update the weight in the DataFrame\n",
    "        self._die.loc[self._die['faces'] == face_value, 'weights'] = new_weight\n",
    "\n",
    "    def roll_dice(self, times_rolled=1):\n",
    "        '''Takes a parameter of how many times the die is to be rolled;\n",
    "        defaults to 1. Returns a Python list of outcomes and does not internally store\n",
    "        these results.'''\n",
    "        results = []\n",
    "        for _ in range(times_rolled):\n",
    "            result = self._die['faces'].sample(weights=self._die['weights']).values[0]\n",
    "            results.append(result)\n",
    "        return results\n",
    "        \n",
    "    def show_dice(self):\n",
    "        '''Returns a copy of the private die data frame.'''\n",
    "        return self._die.copy()\n",
    "        \n",
    "'''"
   ]
  },
  {
   "cell_type": "raw",
   "id": "775db89f-a47e-418e-9dc5-b98fb7999f6b",
   "metadata": {
    "tags": []
   },
   "source": [
    "'''\n",
    "class Game:\n",
    "    '''This is the game class, which rolls one or more similar dice one or more times. Each die in \n",
    "    a given game has the same number of sides and associated faces, but each die object may have\n",
    "    its own weights. Game objects only keep the results of their most recent play. '''\n",
    "    def __init__(self,dice_list):\n",
    "        '''Initializer takes a list of already instantiated similar dice '''\n",
    "        self.dice_list = dice_list\n",
    "            #dice list would be like Dice 1, Dice 2, Dice 3, etc.  \n",
    "    def play(self, roll_number):\n",
    "        '''Takes an integer parameter to specify how many times the dice should be \n",
    "        rolled and saves the result of the play to a private data frame in wide format'''\n",
    "        self.roll_number = roll_number\n",
    "        if not isinstance(roll_number, int):\n",
    "            raise TypeError(\"Roll number must be an integer\")\n",
    "\n",
    "        dice_rolls = []\n",
    "        for dice in self.dice_list:\n",
    "            dice_rolls.append(dice.roll_dice(roll_number))\n",
    "        self.named = pd.DataFrame(dice_rolls).transpose()\n",
    "        self.named.index.name = \"roll_number\"\n",
    "            \n",
    "    def results(self,data_format):\n",
    "        '''Returns the results from rolling the various dice from the most recent play.'''\n",
    "        \n",
    "        if data_format not in [\"wide\", \"narrow\"]:\n",
    "            return ValueError(\"must be wide or narrow format\")\n",
    "        if data_format == 'wide':\n",
    "            return self.named.copy()\n",
    "        elif data_format == 'narrow':\n",
    "            temp = pd.melt(self.named.reset_index(), id_vars = [\"roll_number\"], \n",
    "            var_name = \"Die_number\", value_name = \"Value\")\n",
    "            temp = temp.set_index(['roll_number', 'Die_number'])\n",
    "            return temp.copy()\n",
    "'''"
   ]
  },
  {
   "cell_type": "raw",
   "id": "28b49702-9b57-4c3e-9651-b79a308dd57c",
   "metadata": {
    "tags": []
   },
   "source": [
    "'''\n",
    "class Analyzer:\n",
    "    '''An Analyzer object takes the results of a single game and computes\n",
    "    various descriptive statistical properties about it.'''\n",
    "    def __init__(self, current_game):\n",
    "        self.current_game = current_game\n",
    "        '''Initializer takes a game object as its input parameter and throws a \n",
    "        `ValueError` if the passed value is not a Game object. '''\n",
    "        if not isinstance(current_game, Game):\n",
    "            raise ValueError(\"must be a Game object\")\n",
    "    def jackpot(self):\n",
    "        '''Computes how many times the game resulted in a jackpot with all faces the same,\n",
    "        and returns an integer for the number of jackpots. '''\n",
    "        res = self.current_game.results('wide')\n",
    "        Jackpot = 0\n",
    "        for i in range(len(res)):\n",
    "            val = (res.iloc[i].nunique())\n",
    "            if val == 1:\n",
    "                Jackpot += 1    \n",
    "        return Jackpot\n",
    "\n",
    "    def face_counts(self):\n",
    "        '''Computes how many times a given face is rolled in each event and returns a wide \n",
    "        data frame of results with an index of the roll number, face values as\n",
    "        columns, and count values in the cells.'''\n",
    "        res = self.current_game.results('wide')\n",
    "        new_dict = {}\n",
    "        for face in self.current_game.dice_list[0].faces:\n",
    "            new_dict[face]=0\n",
    "        dict_list = []\n",
    "        for i in range(len(res)):\n",
    "            dict2 = new_dict.copy()\n",
    "            for k in res.iloc[i]:\n",
    "                dict2[k] += 1\n",
    "            dict_list.append(dict2)\n",
    "        return pd.DataFrame(dict_list)\n",
    "        \n",
    "    \n",
    "    def combo_count(self):\n",
    "        '''Computes the distinct combinations of faces rolled, along with their counts and\n",
    "        returns a data frame with a MultiIndex of distinct combinations and a column for \n",
    "        the associated counts. '''\n",
    "        res = self.current_game.results('wide')\n",
    "        tuple_list = []\n",
    "        for row in range(len(res)):\n",
    "            mylist = sorted(list(res.iloc[row]))\n",
    "            mylist = tuple(mylist)\n",
    "            tuple_list.append(mylist)\n",
    "        my_combo = Counter(tuple_list)\n",
    "        df_combo = pd.DataFrame.from_dict(my_combo, orient='index', columns=['count'])\n",
    "        df_combo.index = pd.MultiIndex.from_tuples(df_combo.index)\n",
    "        return df_combo\n",
    "\n",
    "    def permutation_count(self):\n",
    "        '''Computes the distinct permutations of faces rolled, along with their counts and\n",
    "        returns a data frame with a MultiIndex of distinct permutations and a column for \n",
    "        the associated counts. '''\n",
    "        res = self.current_game.results('wide')\n",
    "        tuple_list = []\n",
    "        for row in range(len(res)):\n",
    "            mylist = (list(res.iloc[row]))\n",
    "            mylist = tuple(mylist)\n",
    "            tuple_list.append(mylist)\n",
    "        my_perm = Counter(tuple_list)\n",
    "        df_perm = pd.DataFrame.from_dict(my_perm, orient='index', columns=['count'])\n",
    "        df_perm.index = pd.MultiIndex.from_tuples(df_perm.index)\n",
    "        return df_perm\n",
    "\n",
    "'''"
   ]
  },
  {
   "cell_type": "markdown",
   "id": "6377727a-8f0a-491e-9f1c-d9dc225edd35",
   "metadata": {},
   "source": [
    "## Unitest Module (2)\n",
    "\n",
    "Paste a copy of your test module below.\n",
    "\n",
    "NOTE: Paste as text, not as code. Use triple backticks to wrap your code blocks.\n",
    "\n",
    "- All methods have at least one test method (1).\n",
    "- Each method employs one of Unittest's Assert methods (1)."
   ]
  },
  {
   "cell_type": "raw",
   "id": "5d56c0a4-368f-4505-9295-4e435007f6af",
   "metadata": {},
   "source": [
    "'''import unittest\n",
    "import numpy as np\n",
    "import pandas as pd\n",
    "from MonteCarlo import Dice\n",
    "from MonteCarlo import Game \n",
    "from MonteCarlo import Analyzer\n",
    "\n",
    "class DiceTestSuite(unittest.TestCase):\n",
    "\n",
    "    def setUp(self):\n",
    "        self.dice1 = Dice(np.array([1,2,3,4,5,6]))\n",
    "        self.dice2 = Dice(np.array([1,2,3,4,5,6]))\n",
    "        self.weighted_dice = Dice(np.array([1,2,3,4,5,6]))\n",
    "        self.game = Game([self.dice1, self.dice2])\n",
    "    \n",
    "    def test_1(self):\n",
    "        self.assertIsInstance(self.dice1, Dice)\n",
    "    \n",
    "    def test_2_change_weight(self):\n",
    "        test_faces = self.weighted_dice\n",
    "        face_value = 1\n",
    "        old_weight = test_faces._die[\"weights\"]\n",
    "        new_weight = 10\n",
    "        test_faces.change_weight(face_value,new_weight)\n",
    "        changed_weight = test_faces._die.loc[test_faces._die['faces'] == face_value, 'weights'].values[0]\n",
    "        self.assertEqual(new_weight, changed_weight)\n",
    "                        \n",
    "    def test_3_roll_dice(self):\n",
    "        result = self.dice1.roll_dice(4)\n",
    "        self.assertEqual(len(result), 4)\n",
    "    \n",
    "    def test_4_show_dice(self):\n",
    "        self.assertIsInstance(self.dice1.show_dice(), pd.DataFrame)\n",
    "\n",
    "    def test_5(self):\n",
    "        dice1 = self.dice1\n",
    "        dice2 = self.dice2\n",
    "        dice_list = [dice1, dice2]\n",
    "        test_game = self.game\n",
    "        self.assertIsInstance(test_game, Game)\n",
    "        \n",
    "    def test_6_play(self):\n",
    "        dice1 = self.dice1\n",
    "        dice2 = self.dice2\n",
    "        dice_list = [dice1, dice2]\n",
    "        test_game = Game(dice_list)        \n",
    "        test_game.play(4)\n",
    "        self.assertEqual(test_game.named.size, 8)\n",
    "        \n",
    "    def test_7_results(self):\n",
    "        dice1 = self.dice1\n",
    "        dice2 = self.dice2\n",
    "        dice_list = [dice1, dice2]\n",
    "        test_game = Game(dice_list)\n",
    "        test_game.play(4)\n",
    "        self.assertEqual(test_game.results('wide').shape, (4,2))\n",
    "      \n",
    "    def test_8_init(self):\n",
    "        dice1 = self.dice1\n",
    "        dice2 = self.dice2\n",
    "        dice_list = [dice1, dice2]\n",
    "        test_game = Game(dice_list)\n",
    "        test_game.play(4)        \n",
    "        analyze_test = Analyzer(test_game)\n",
    "        self.assertIsInstance(analyze_test, Analyzer)\n",
    "\n",
    "    def test_9_jackpot(self):\n",
    "        dice1 = Dice(np.array([1]))\n",
    "        dice2 = Dice(np.array([1]))\n",
    "        dice_list = [dice1, dice2]\n",
    "        test_game = Game(dice_list)\n",
    "        test_game.play(4)        \n",
    "        analyze_test = Analyzer(test_game)\n",
    "        self.assertEqual(analyze_test.jackpot(), 4)      \n",
    "            \n",
    "    def test_10_face_counts(self):\n",
    "        dice1 = Dice(np.array([1]))\n",
    "        dice2 = Dice(np.array([1]))\n",
    "        dice_list = [dice1, dice2]\n",
    "        test_game = Game(dice_list)\n",
    "        test_game.play(4)        \n",
    "        analyze_test = Analyzer(test_game)        \n",
    "        df = analyze_test.face_counts()[1].unique()[0]     \n",
    "        self.assertEqual(df, 2)\n",
    "        \n",
    "    def test_11_combo_count(self):\n",
    "        dice1 = Dice(np.array([1]))\n",
    "        dice2 = Dice(np.array([1]))\n",
    "        dice_list = [dice1, dice2]\n",
    "        test_game = Game(dice_list)\n",
    "        test_game.play(4)        \n",
    "        analyze_test = Analyzer(test_game)        \n",
    "        df = analyze_test.combo_count()['count'].values[0]\n",
    "        self.assertEqual(df, 4)\n",
    "    \n",
    "    def test_12_permutation_count(self):\n",
    "        dice1 = Dice(np.array([1]))\n",
    "        dice2 = Dice(np.array([1]))\n",
    "        dice_list = [dice1, dice2]\n",
    "        test_game = Game(dice_list)\n",
    "        test_game.play(4)        \n",
    "        analyze_test = Analyzer(test_game)        \n",
    "        df = analyze_test.permutation_count()['count'].values[0]\n",
    "        self.assertEqual(df,4)\n",
    "                \n",
    "        \n",
    "if __name__ == '__main__':\n",
    "    unittest.main() \n",
    "'''"
   ]
  },
  {
   "cell_type": "markdown",
   "id": "3e058d03-29bc-408f-b36d-0605b4f4b8c0",
   "metadata": {
    "tags": []
   },
   "source": [
    "## Unittest Results (3)\n",
    "\n",
    "Put a copy of the results of running your tests from the command line here.\n",
    "\n",
    "Again, paste as text using triple backticks.\n",
    "\n",
    "- All 12 specified methods return OK (3; .25 each)."
   ]
  },
  {
   "cell_type": "raw",
   "id": "ea59a1be-9ba3-4b90-828c-58ecdaad11be",
   "metadata": {
    "tags": []
   },
   "source": [
    "'''\n",
    "test_1 (__main__.DiceTestSuite.test_1) ... ok\n",
    "test_10_face_counts (__main__.DiceTestSuite.test_10_face_counts) ... ok\n",
    "test_11_combo_count (__main__.DiceTestSuite.test_11_combo_count) ... ok\n",
    "test_12_permutation_count (__main__.DiceTestSuite.test_12_permutation_count) ... ok\n",
    "test_2_change_weight (__main__.DiceTestSuite.test_2_change_weight) ... ok\n",
    "test_3_roll_dice (__main__.DiceTestSuite.test_3_roll_dice) ... ok\n",
    "test_4_show_dice (__main__.DiceTestSuite.test_4_show_dice) ... ok\n",
    "test_5 (__main__.DiceTestSuite.test_5) ... ok\n",
    "test_6_play (__main__.DiceTestSuite.test_6_play) ... ok\n",
    "test_7_results (__main__.DiceTestSuite.test_7_results) ... ok\n",
    "test_8_init (__main__.DiceTestSuite.test_8_init) ... ok\n",
    "test_9_jackpot (__main__.DiceTestSuite.test_9_jackpot) ... ok\n",
    "\n",
    "----------------------------------------------------------------------\n",
    "Ran 12 tests in 0.692s\n",
    "\n",
    "OK\n",
    "'''"
   ]
  },
  {
   "cell_type": "markdown",
   "id": "d9ffe8c5-eb2f-4ad1-af76-a46550e4c7ac",
   "metadata": {},
   "source": [
    "## Import (1)\n",
    "\n",
    "Import your module here. This import should refer to the code in your package directory.\n",
    "\n",
    "- Module successuflly imported (1)."
   ]
  },
  {
   "cell_type": "code",
   "execution_count": 4,
   "id": "7a183106-f2ec-45f3-a5ac-1a4e13d6df3b",
   "metadata": {
    "tags": []
   },
   "outputs": [],
   "source": [
    "# e.g. import montecarlo.montecarlo \n",
    "from Monte_Carlo_Module.Monte_Carlo_Module import main"
   ]
  },
  {
   "cell_type": "markdown",
   "id": "f30c4842-65b1-4556-98b6-3fe1a07e1371",
   "metadata": {},
   "source": [
    "## Help Docs (4)\n",
    "\n",
    "Show your docstring documentation by applying `help()` to your imported module.\n",
    "\n",
    "- All methods have a docstring (3; .25 each).\n",
    "- All classes have a docstring (1; .33 each)."
   ]
  },
  {
   "cell_type": "code",
   "execution_count": 5,
   "id": "bf4fbf1f-9885-471c-a0a6-e9ca90e160de",
   "metadata": {
    "tags": []
   },
   "outputs": [
    {
     "name": "stdout",
     "output_type": "stream",
     "text": [
      "Help on module Monte_Carlo_Module.Monte_Carlo_Module.main in Monte_Carlo_Module.Monte_Carlo_Module:\n",
      "\n",
      "NAME\n",
      "    Monte_Carlo_Module.Monte_Carlo_Module.main\n",
      "\n",
      "CLASSES\n",
      "    builtins.object\n",
      "        Analyzer\n",
      "        Dice\n",
      "        Game\n",
      "    \n",
      "    class Analyzer(builtins.object)\n",
      "     |  Analyzer(current_game)\n",
      "     |  \n",
      "     |  An Analyzer object takes the results of a single game and computes\n",
      "     |  various descriptive statistical properties about it.\n",
      "     |  \n",
      "     |  Methods defined here:\n",
      "     |  \n",
      "     |  __init__(self, current_game)\n",
      "     |      Initialize self.  See help(type(self)) for accurate signature.\n",
      "     |  \n",
      "     |  combo_count(self)\n",
      "     |      Computes the distinct combinations of faces rolled, along with their counts and\n",
      "     |      returns a data frame with a MultiIndex of distinct combinations and a column for \n",
      "     |      the associated counts.\n",
      "     |  \n",
      "     |  face_counts(self)\n",
      "     |      Computes how many times a given face is rolled in each event and returns a wide \n",
      "     |      data frame of results with an index of the roll number, face values as\n",
      "     |      columns, and count values in the cells.\n",
      "     |  \n",
      "     |  jackpot(self)\n",
      "     |      Computes how many times the game resulted in a jackpot with all faces the same,\n",
      "     |      and returns an integer for the number of jackpots.\n",
      "     |  \n",
      "     |  permutation_count(self)\n",
      "     |      Computes the distinct permutations of faces rolled, along with their counts and\n",
      "     |      returns a data frame with a MultiIndex of distinct permutations and a column for \n",
      "     |      the associated counts.\n",
      "     |  \n",
      "     |  ----------------------------------------------------------------------\n",
      "     |  Data descriptors defined here:\n",
      "     |  \n",
      "     |  __dict__\n",
      "     |      dictionary for instance variables (if defined)\n",
      "     |  \n",
      "     |  __weakref__\n",
      "     |      list of weak references to the object (if defined)\n",
      "    \n",
      "    class Dice(builtins.object)\n",
      "     |  Dice(faces: numpy.ndarray)\n",
      "     |  \n",
      "     |  The dice class creates dice with n number of sides, changes the weight to \n",
      "     |  specific sides as needed, rolls the dice and Returns a copy of the private die data frame.\n",
      "     |  \n",
      "     |  Methods defined here:\n",
      "     |  \n",
      "     |  __init__(self, faces: numpy.ndarray)\n",
      "     |      Initializer takes a numpy array of faces as an argument. Data type may be\n",
      "     |      strings or numbers, and values must be distinct. A weight of 1 is internally\n",
      "     |      initializes for each face.\n",
      "     |  \n",
      "     |  change_weight(self, face_value, new_weight)\n",
      "     |      Takes two arguments: the face value to be changed and the new\n",
      "     |      weight. Checks to see if the face is a valid value and if the weight is a valid  type.\n",
      "     |  \n",
      "     |  roll_dice(self, times_rolled=1)\n",
      "     |      Takes a parameter of how many times the die is to be rolled;\n",
      "     |      defaults to 1. Returns a Python list of outcomes and does not internally store\n",
      "     |      these results.\n",
      "     |  \n",
      "     |  show_dice(self)\n",
      "     |      Returns a copy of the private die data frame.\n",
      "     |  \n",
      "     |  ----------------------------------------------------------------------\n",
      "     |  Data descriptors defined here:\n",
      "     |  \n",
      "     |  __dict__\n",
      "     |      dictionary for instance variables (if defined)\n",
      "     |  \n",
      "     |  __weakref__\n",
      "     |      list of weak references to the object (if defined)\n",
      "    \n",
      "    class Game(builtins.object)\n",
      "     |  Game(dice_list)\n",
      "     |  \n",
      "     |  This is the game class, which rolls one or more similar dice one or more times. Each die in \n",
      "     |  a given game has the same number of sides and associated faces, but each die object may have\n",
      "     |  its own weights. Game objects only keep the results of their most recent play.\n",
      "     |  \n",
      "     |  Methods defined here:\n",
      "     |  \n",
      "     |  __init__(self, dice_list)\n",
      "     |      Initializer takes a list of already instantiated similar dice\n",
      "     |  \n",
      "     |  play(self, roll_number)\n",
      "     |      Takes an integer parameter to specify how many times the dice should be \n",
      "     |      rolled and saves the result of the play to a private data frame in wide format\n",
      "     |  \n",
      "     |  results(self, data_format)\n",
      "     |      Returns the results from rolling the various dice from the most recent play.\n",
      "     |  \n",
      "     |  ----------------------------------------------------------------------\n",
      "     |  Data descriptors defined here:\n",
      "     |  \n",
      "     |  __dict__\n",
      "     |      dictionary for instance variables (if defined)\n",
      "     |  \n",
      "     |  __weakref__\n",
      "     |      list of weak references to the object (if defined)\n",
      "\n",
      "FILE\n",
      "    /Users/mac/Downloads/ds5100_final_project_files/Monte_Carlo_Module/Monte_Carlo_Module/main.py\n",
      "\n",
      "\n"
     ]
    }
   ],
   "source": [
    "# help(montecarlo)\n",
    "help(main)"
   ]
  },
  {
   "cell_type": "markdown",
   "id": "a9defa84-b395-4966-bd1c-5c6c2bb7ed68",
   "metadata": {},
   "source": [
    "## `README.md` File (3)\n",
    "\n",
    "Provide link to the README.md file of your project's repo.\n",
    "\n",
    "- Metadata section or info present (1).\n",
    "- Synopsis section showing how each class is called (1). (All must be included.)\n",
    "- API section listing all classes and methods (1). (All must be included.)"
   ]
  },
  {
   "cell_type": "markdown",
   "id": "ee090b33-d593-48a0-bf35-e739cea0942c",
   "metadata": {},
   "source": [
    "URL:"
   ]
  },
  {
   "cell_type": "markdown",
   "id": "108604c8-8827-42ef-ab59-6b25428fc0ca",
   "metadata": {},
   "source": [
    "## Successful installation (2)\n",
    "\n",
    "Put a screenshot or paste a copy of a terminal session where you successfully install your module with pip.\n",
    "\n",
    "If pasting text, use a preformatted text block to show the results.\n",
    "\n",
    "- Installed with `pip` (1).\n",
    "- Successfully installed message appears (1)."
   ]
  },
  {
   "cell_type": "raw",
   "id": "1278db6a-aa53-4e5c-a749-93a87ab239e0",
   "metadata": {},
   "source": [
    "pip3 install .\n",
    "Processing /Users/mac/Downloads/ds5100_final_project_files/Monte_Carlo_Module\n",
    "  Installing build dependencies ... done\n",
    "  Getting requirements to build wheel ... done\n",
    "  Preparing metadata (pyproject.toml) ... done\n",
    "Requirement already satisfied: numpy>=2.1.3 in /Library/Frameworks/Python.framework/Versions/3.12/lib/python3.12/site-packages (from MonteCarloModule==1.0.0) (2.1.3)\n",
    "Requirement already satisfied: pandas>=2.2.3 in /Library/Frameworks/Python.framework/Versions/3.12/lib/python3.12/site-packages (from MonteCarloModule==1.0.0) (2.2.3)\n",
    "Requirement already satisfied: python-dateutil>=2.8.2 in /Library/Frameworks/Python.framework/Versions/3.12/lib/python3.12/site-packages (from pandas>=2.2.3->MonteCarloModule==1.0.0) (2.9.0.post0)\n",
    "Requirement already satisfied: pytz>=2020.1 in /Library/Frameworks/Python.framework/Versions/3.12/lib/python3.12/site-packages (from pandas>=2.2.3->MonteCarloModule==1.0.0) (2024.2)\n",
    "Requirement already satisfied: tzdata>=2022.7 in /Library/Frameworks/Python.framework/Versions/3.12/lib/python3.12/site-packages (from pandas>=2.2.3->MonteCarloModule==1.0.0) (2024.2)\n",
    "Requirement already satisfied: six>=1.5 in /Library/Frameworks/Python.framework/Versions/3.12/lib/python3.12/site-packages (from python-dateutil>=2.8.2->pandas>=2.2.3->MonteCarloModule==1.0.0) (1.17.0)\n",
    "Building wheels for collected packages: MonteCarloModule\n",
    "  Building wheel for MonteCarloModule (pyproject.toml) ... done\n",
    "  Created wheel for MonteCarloModule: filename=MonteCarloModule-1.0.0-py3-none-any.whl size=4871 sha256=0a7aea82304b723fe16ad3e65b312b5ceadadb0c3e1c42a2ae92fa51c074a013\n",
    "  Stored in directory: /private/var/folders/js/lyndrx4j3dz9vv2jvrk8mfz00000gn/T/pip-ephem-wheel-cache-l7gzx3mf/wheels/82/83/b5/13074d5a5f11074ecb5f8aff082e2a3134049b62323f87f4d9\n",
    "Successfully built MonteCarloModule\n",
    "Installing collected packages: MonteCarloModule\n",
    "  Attempting uninstall: MonteCarloModule\n",
    "    Found existing installation: MonteCarloModule 1.0.0\n",
    "    Uninstalling MonteCarloModule-1.0.0:\n",
    "      Successfully uninstalled MonteCarloModule-1.0.0\n",
    "Successfully installed MonteCarloModule-1.0.0"
   ]
  },
  {
   "cell_type": "markdown",
   "id": "7c44695d-d1b3-4edf-9f94-e64d7446f199",
   "metadata": {},
   "source": [
    "# Scenarios\n",
    "\n",
    "Use code blocks to perform the tasks for each scenario.\n",
    "\n",
    "Be sure the outputs are visible before submitting."
   ]
  },
  {
   "cell_type": "markdown",
   "id": "e2479eae-6fc9-44cd-b8d7-9b22cb501f2a",
   "metadata": {
    "tags": []
   },
   "source": [
    "## Scenario 1: A 2-headed Coin (9)\n",
    "\n",
    "Task 1. Create a fair coin (with faces $H$ and $T$) and one unfair coin in which one of the faces has a weight of $5$ and the others $1$.\n",
    "\n",
    "- Fair coin created (1).\n",
    "- Unfair coin created with weight as specified (1)."
   ]
  },
  {
   "cell_type": "code",
   "execution_count": 6,
   "id": "55ce498e-c75f-4425-9e3e-b635bd6cd9e1",
   "metadata": {},
   "outputs": [],
   "source": [
    "import Monte_Carlo_Module.Monte_Carlo_Module.main as MC\n",
    "coinheads = MC.np.array([\"H\",\"T\"])\n",
    "faircoin1 = MC.Dice(coinheads)\n",
    "faircoin2 = MC.Dice(coinheads)\n",
    "weightedcoin = MC.Dice(coinheads)\n",
    "\n",
    "weightedcoin.change_weight(\"H\",5)"
   ]
  },
  {
   "cell_type": "markdown",
   "id": "02b272ab-99da-4b6e-ac2a-555b73e09c07",
   "metadata": {},
   "source": [
    "Task 2. Play a game of $1000$ flips with two fair dice.\n",
    "\n",
    "- Play method called correclty and without error (1)."
   ]
  },
  {
   "cell_type": "code",
   "execution_count": 10,
   "id": "65c92601-d32d-4326-b215-74953aee27f2",
   "metadata": {},
   "outputs": [],
   "source": [
    "game1 = MC.Game([faircoin1, faircoin2])\n",
    "game1.play(1000)"
   ]
  },
  {
   "cell_type": "markdown",
   "id": "7d9c3dc8-22c1-4cae-81fb-d68d774a05d1",
   "metadata": {},
   "source": [
    "Task 3. Play another game (using a new Game object) of $1000$ flips, this time using two unfair dice and one fair die. For the second unfair die, you can use the same die object twice in the list of dice you pass to the Game object.\n",
    "\n",
    "- New game object created (1).\n",
    "- Play method called correclty and without error (1)."
   ]
  },
  {
   "cell_type": "code",
   "execution_count": 11,
   "id": "d4098bed-1eb2-4084-8d5e-9fda07c3be43",
   "metadata": {},
   "outputs": [],
   "source": [
    "game2 = MC.Game([faircoin1, weightedcoin, weightedcoin])\n",
    "game2.play(1000)"
   ]
  },
  {
   "cell_type": "markdown",
   "id": "f690ebfc-fe71-4eb2-976d-7ac80ca6c23f",
   "metadata": {},
   "source": [
    "Task 4. For each game, use an Analyzer object to determine the raw frequency of jackpots — i.e. getting either all $H$s or all $T$s.\n",
    "\n",
    "- Analyzer objecs instantiated for both games (1).\n",
    "- Raw frequencies reported for both (1)."
   ]
  },
  {
   "cell_type": "code",
   "execution_count": 16,
   "id": "b26b8b7e-3be7-4476-a9a4-37d97536729e",
   "metadata": {},
   "outputs": [
    {
     "name": "stdout",
     "output_type": "stream",
     "text": [
      "466\n",
      "351\n"
     ]
    }
   ],
   "source": [
    "analyzer1 = MC.Analyzer(game1)\n",
    "analyzer2 = MC.Analyzer(game2)\n",
    "print(analyzer1.jackpot())\n",
    "print(analyzer2.jackpot())"
   ]
  },
  {
   "cell_type": "markdown",
   "id": "b73d233c-445e-40cd-8858-0c5e1f097105",
   "metadata": {},
   "source": [
    "Task 5. For each analyzer, compute relative frequency as the number of jackpots over the total number of rolls.\n",
    "\n",
    "- Both relative frequencies computed (1)."
   ]
  },
  {
   "cell_type": "code",
   "execution_count": 17,
   "id": "9a96b31b-1b9d-496e-be3e-4bf83c45ec3a",
   "metadata": {},
   "outputs": [
    {
     "name": "stdout",
     "output_type": "stream",
     "text": [
      "0.466\n",
      "0.351\n"
     ]
    }
   ],
   "source": [
    "print(analyzer1.jackpot()/1000)\n",
    "print(analyzer2.jackpot()/1000)"
   ]
  },
  {
   "cell_type": "markdown",
   "id": "a6e1e734-7f5c-4721-8ba4-2f3a424cf984",
   "metadata": {},
   "source": [
    "Task 6. Show your results, comparing the two relative frequencies, in a simple bar chart.\n",
    "\n",
    "- Bar chart plotted and correct (1)."
   ]
  },
  {
   "cell_type": "code",
   "execution_count": 22,
   "id": "473fa67c-aa53-4aa3-a0b7-e8772b3f6ed3",
   "metadata": {},
   "outputs": [
    {
     "data": {
      "text/plain": [
       "<BarContainer object of 2 artists>"
      ]
     },
     "execution_count": 22,
     "metadata": {},
     "output_type": "execute_result"
    },
    {
     "data": {
      "image/png": "[encoded data removed]",
      "text/plain": [
       "<Figure size 640x480 with 1 Axes>"
      ]
     },
     "metadata": {},
     "output_type": "display_data"
    }
   ],
   "source": [
    "import matplotlib.pyplot as plt\n",
    "\n",
    "a1 = (analyzer1.jackpot()/1000)\n",
    "a2 = (analyzer2.jackpot()/1000)\n",
    "\n",
    "values = [a1, a2]\n",
    "categories = [\"Fair Coins\", \"Weighted Coins\"]\n",
    "\n",
    "plt.bar(categories, values)"
   ]
  },
  {
   "cell_type": "markdown",
   "id": "725cfa5b-e4b7-47c9-86aa-8d9e1fe6c8c7",
   "metadata": {},
   "source": [
    "## Scenario 2: A 6-sided Die (9)\n",
    "\n",
    "Task 1. Create three dice, each with six sides having the faces 1 through 6.\n",
    "\n",
    "- Three die objects created (1)."
   ]
  },
  {
   "cell_type": "code",
   "execution_count": 33,
   "id": "6a8bc611-325a-4e05-88d5-980e0a2cf7c5",
   "metadata": {},
   "outputs": [],
   "source": [
    "dice_faces = MC.np.array([1,2,3,4,5,6])\n",
    "\n",
    "dice1 = MC.Dice(dice_faces)\n",
    "unfairdice1 = MC.Dice(dice_faces)\n",
    "unfairdice2 = MC.Dice(dice_faces)"
   ]
  },
  {
   "cell_type": "markdown",
   "id": "2ed3ad26-fbe9-43bd-9ad7-f683a4191d12",
   "metadata": {},
   "source": [
    "Task 2. Convert one of the dice to an unfair one by weighting the face $6$ five times more than the other weights (i.e. it has weight of 5 and the others a weight of 1 each).\n",
    "\n",
    "- Unfair die created with proper call to weight change method (1)."
   ]
  },
  {
   "cell_type": "code",
   "execution_count": 34,
   "id": "e33dd18f-7f90-456d-a680-61c08a328e21",
   "metadata": {},
   "outputs": [],
   "source": [
    "unfairdice1.change_weight(6,5)"
   ]
  },
  {
   "cell_type": "markdown",
   "id": "7f6c062a-4c5b-45b9-96b8-76a0354c7e47",
   "metadata": {},
   "source": [
    "Task 3. Convert another of the dice to be unfair by weighting the face $1$ five times more than the others.\n",
    "\n",
    "- Unfair die created with proper call to weight change method (1)."
   ]
  },
  {
   "cell_type": "code",
   "execution_count": 35,
   "id": "01133a4e-6b06-4246-8d90-8e6d6995be51",
   "metadata": {},
   "outputs": [],
   "source": [
    "unfairdice2.change_weight(1,5)"
   ]
  },
  {
   "cell_type": "markdown",
   "id": "f0ed31cb-0a3c-4eb2-b85e-6ed6b2eb6e58",
   "metadata": {},
   "source": [
    "Task 4. Play a game of $10000$ rolls with $5$ fair dice.\n",
    "\n",
    "- Game class properly instantiated (1). \n",
    "- Play method called properly (1)."
   ]
  },
  {
   "cell_type": "code",
   "execution_count": 40,
   "id": "e92395a4-9ed8-4cb0-8c85-38768a784ffc",
   "metadata": {},
   "outputs": [],
   "source": [
    "game3 = MC.Game([dice1,dice1,dice1,dice1,dice1])\n",
    "game3.play(10000)"
   ]
  },
  {
   "cell_type": "markdown",
   "id": "7814b402-46a4-40e5-8141-20e05c3e646b",
   "metadata": {},
   "source": [
    "Task 5. Play another game of $10000$ rolls, this time with $2$ unfair dice, one as defined in steps #2 and #3 respectively, and $3$ fair dice.\n",
    "\n",
    "- Game class properly instantiated (1). \n",
    "- Play method called properly (1)."
   ]
  },
  {
   "cell_type": "code",
   "execution_count": 41,
   "id": "7cd58fba-b2a5-4d5d-bc6d-2a7a68d18c4f",
   "metadata": {},
   "outputs": [],
   "source": [
    "game4 = MC.Game([unfairdice1,unfairdice2,dice1,dice1,dice1])\n",
    "game4.play(10000)"
   ]
  },
  {
   "cell_type": "markdown",
   "id": "7b6cd372-2bb8-4df8-ade1-8f48bc300955",
   "metadata": {},
   "source": [
    "Task 6. For each game, use an Analyzer object to determine the relative frequency of jackpots and show your results, comparing the two relative frequencies, in a simple bar chart.\n",
    "\n",
    "- Jackpot methods called (1).\n",
    "- Graph produced (1)."
   ]
  },
  {
   "cell_type": "code",
   "execution_count": 42,
   "id": "bbdcf695-8937-406e-9b53-aa0b9ee3c59a",
   "metadata": {},
   "outputs": [
    {
     "name": "stdout",
     "output_type": "stream",
     "text": [
      "12\n",
      "4\n"
     ]
    },
    {
     "data": {
      "text/plain": [
       "<BarContainer object of 2 artists>"
      ]
     },
     "execution_count": 42,
     "metadata": {},
     "output_type": "execute_result"
    },
    {
     "data": {
      "image/png": "[encoded data removed]",
      "text/plain": [
       "<Figure size 640x480 with 1 Axes>"
      ]
     },
     "metadata": {},
     "output_type": "display_data"
    }
   ],
   "source": [
    "analyzer3 = MC.Analyzer(game3)\n",
    "analyzer4 = MC.Analyzer(game4)\n",
    "print(analyzer3.jackpot())\n",
    "print(analyzer4.jackpot())\n",
    "\n",
    "a1 = (analyzer3.jackpot()/10000)\n",
    "a2 = (analyzer4.jackpot()/10000)\n",
    "\n",
    "values = [a1, a2]\n",
    "categories = [\"Fair Dice\", \"Weighted Dice\"]\n",
    "\n",
    "plt.bar(categories, values)"
   ]
  },
  {
   "cell_type": "markdown",
   "id": "9f04e9be-8fcf-4ea4-a391-6614608285f8",
   "metadata": {},
   "source": [
    "## Scenario 3: Letters of the Alphabet (7)\n",
    "\n",
    "Task 1. Create a \"die\" of letters from $A$ to $Z$ with weights based on their frequency of usage as found in the data file `english_letters.txt`. Use the frequencies (i.e. raw counts) as weights.\n",
    "\n",
    "- Die correctly instantiated with source file data (1).\n",
    "- Weights properly applied using weight setting method (1)."
   ]
  },
  {
   "cell_type": "code",
   "execution_count": 52,
   "id": "b0ceb771-3cdf-4d8f-8c2c-020806bbb909",
   "metadata": {},
   "outputs": [],
   "source": [
    "with open ('english_letters.txt', 'r') as file:\n",
    "    lines = file.readlines()\n",
    "new_dict = {}\n",
    "for line in lines: \n",
    "    split = (line.split())\n",
    "    new_dict[split[0]] = int(split[1])\n",
    "\n",
    "letterdice = MC.np.array(list(new_dict.keys()))\n",
    "newdice = MC.Dice(letterdice)\n",
    "\n",
    "for key in new_dict:\n",
    "    value = new_dict[key] \n",
    "    newdice.change_weight(key, value)"
   ]
  },
  {
   "cell_type": "markdown",
   "id": "88e2e14a-6223-470a-a2c8-bca1120d7a5b",
   "metadata": {},
   "source": [
    "Task 2. Play a game involving $4$ of these dice with $1000$ rolls.\n",
    "\n",
    "- Game play method properly called (1)."
   ]
  },
  {
   "cell_type": "code",
   "execution_count": 54,
   "id": "2ae087cc-936d-4f1e-bddb-a7c179d139e0",
   "metadata": {},
   "outputs": [],
   "source": [
    "game5 = MC.Game([newdice,newdice,newdice,newdice])\n",
    "game5.play(1000)"
   ]
  },
  {
   "cell_type": "code",
   "execution_count": 62,
   "id": "056ce45a-db97-4254-a6e6-651f739811be",
   "metadata": {
    "tags": []
   },
   "outputs": [],
   "source": [
    "analyzer5 = MC.Analyzer(game5)\n",
    "my_results = analyzer5.permutation_count()\n",
    "\n",
    "words_list = []\n",
    "for letter in my_results.index:\n",
    "    words = ''.join(letter)\n",
    "    words_list.append(words)\n",
    "                      "
   ]
  },
  {
   "cell_type": "markdown",
   "id": "3b9ff800-bf1f-4f66-9d7f-ff57a648e9f0",
   "metadata": {},
   "source": [
    "Task 3. Determine how many permutations in your results are actual English words, based on the vocabulary found in `scrabble_words.txt`.\n",
    "\n",
    "- Use permutation method (1).\n",
    "- Get count as difference between permutations and vocabulary (1)."
   ]
  },
  {
   "cell_type": "code",
   "execution_count": 74,
   "id": "ed1c7fa0-cfa3-4cf4-9fd0-9f84b86b0f64",
   "metadata": {},
   "outputs": [
    {
     "name": "stdout",
     "output_type": "stream",
     "text": [
      "['AINE', 'AIRN', 'AMES', 'ATES', 'BLAE', 'CALF', 'CASE', 'CLAT', 'CRUE', 'FEES', 'HART', 'IRES', 'KENO', 'LOST', 'MARE', 'MATT', 'NEEP', 'NOTE', 'PAMS', 'PATE', 'PERM', 'REEL', 'ROSE', 'ROTS', 'SADI', 'SAID', 'SEAT', 'SEED', 'SENE', 'SHOO', 'SITS', 'SONE', 'TALI', 'TATE', 'TEED', 'TEEM', 'TEIN', 'TENT', 'TETH', 'TIND', 'TINT', 'TIPI', 'TOTE', 'VARS', 'VENA']\n",
      "941\n"
     ]
    }
   ],
   "source": [
    "with open ('scrabble_words.txt', 'r') as file:\n",
    "    lines = file.read().splitlines()\n",
    "common_words = [word for word in lines if word in words_list]\n",
    "print(common_words)\n",
    "\n",
    "print(len(my_results) - len(common_words))"
   ]
  },
  {
   "cell_type": "markdown",
   "id": "fcf068cf-381a-4b3e-ac3a-0510eb4dbdb0",
   "metadata": {},
   "source": [
    "Task 4. Repeat steps #2 and #3, this time with $5$ dice. How many actual words does this produce? Which produces more?\n",
    "\n",
    "- Successfully repreats steps (1).\n",
    "- Identifies parameter with most found words (1)."
   ]
  },
  {
   "cell_type": "code",
   "execution_count": 71,
   "id": "65f66566-b780-4d38-a558-c5705cb4e952",
   "metadata": {
    "tags": []
   },
   "outputs": [
    {
     "name": "stdout",
     "output_type": "stream",
     "text": [
      "['ATTAR', 'BESES', 'DAUNT', 'DEARE', 'DOMIC', 'FASCI', 'LOVIE', 'PRAAM', 'PROIN', 'ROSIT', 'SIDED', 'SINED', 'SINES', 'SNEES', 'SONLY', 'SORED', 'STARE', 'TOMBS']\n"
     ]
    }
   ],
   "source": [
    "game6 = MC.Game([newdice,newdice,newdice,newdice,newdice])\n",
    "analyzer6 = MC.Analyzer(game6)\n",
    "game6.play(1000)\n",
    "\n",
    "my_results2 = analyzer6.permutation_count()\n",
    "\n",
    "words_list2 = []\n",
    "for letter in my_results2.index:\n",
    "    words = ''.join(letter)\n",
    "    words_list2.append(words)\n",
    "    \n",
    "with open ('scrabble_words.txt', 'r') as file:\n",
    "    lines = file.read().splitlines()\n",
    "common_words = [word for word in lines if word in words_list2]\n",
    "print(common_words)\n",
    "\n",
    "len(common_words)"
   ]
  },
  {
   "cell_type": "code",
   "execution_count": 73,
   "id": "475fcaa7-c431-49c2-a5fe-4ac94d87ebdc",
   "metadata": {
    "tags": []
   },
   "outputs": [
    {
     "name": "stdout",
     "output_type": "stream",
     "text": [
      "982\n"
     ]
    }
   ],
   "source": [
    "print(len(my_results2) - len(common_words))"
   ]
  },
  {
   "cell_type": "raw",
   "id": "663409a5-bd52-457e-929a-fe56fbb53431",
   "metadata": {},
   "source": [
    "The game with 5 dice produced slighlty more words, with \n",
    "982 words compared to 941 words with 4 dice. "
   ]
  }
 ],
 "metadata": {
  "kernelspec": {
   "display_name": "Python 3 (ipykernel)",
   "language": "python",
   "name": "python3"
  },
  "language_info": {
   "codemirror_mode": {
    "name": "ipython",
    "version": 3
   },
   "file_extension": ".py",
   "mimetype": "text/x-python",
   "name": "python",
   "nbconvert_exporter": "python",
   "pygments_lexer": "ipython3",
   "version": "3.11.5"
  },
  "toc-autonumbering": true,
  "widgets": {
   "application/vnd.jupyter.widget-state+json": {
    "state": {},
    "version_major": 2,
    "version_minor": 0
   }
  }
 },
 "nbformat": 4,
 "nbformat_minor": 5
}
